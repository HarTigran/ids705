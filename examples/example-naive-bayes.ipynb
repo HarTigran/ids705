{
 "cells": [
  {
   "cell_type": "markdown",
   "metadata": {},
   "source": [
    "# Naive Bayes decision boundary\n",
    "The Gaussian Naive Bayes decision boundary will generally be nonlinear if for each feature and each class, the variance of the Gaussian is allowed to vary. First, let's build a function to plot the discriminant functions $d_c(\\mathbf{x})=P(\\mathbf{x}|Y=c)P(c)$. Here $c$ is the class (0 or 1) and we assume that the priors are equal across the classes, or 0.5 each, so we can leave them out since they affect each discriminant equally.\n",
    "\n",
    "For each example we'll show the discriminant function for class 0 and class 1 and the likelihood ratio."
   ]
  },
  {
   "cell_type": "code",
   "execution_count": null,
   "metadata": {},
   "outputs": [],
   "source": [
    "import numpy as np\n",
    "from scipy.stats import norm\n",
    "import matplotlib.pyplot as plt\n",
    "\n",
    "'''Explore the variation in decision boundary in Naive Bayes assuming different \n",
    "means and variances for each marginal distribution'''\n",
    "\n",
    "def plot_naive_bayes_example(X0,X1,mean,std):\n",
    "    # Calculate the discriminant function for each class and the likelihood ratio\n",
    "    D0 = norm.pdf(X0,loc=mean[0][0], scale=std[0][0]) * norm.pdf(X1,loc=mean[0][1], scale=std[0][1])\n",
    "    D1 = norm.pdf(X0,loc=mean[1][0], scale=std[1][0]) * norm.pdf(X1,loc=mean[1][1], scale=std[1][1])\n",
    "    confidencescore = np.log(D1 / D0)\n",
    "\n",
    "    fig, axs = plt.subplots(2, 2, constrained_layout=True, figsize=(8,8))\n",
    "    extent = [x0[0],x0[-1],x1[0],x1[-1]]\n",
    "    axs[0, 0].imshow(D0, extent=extent, origin='lower')\n",
    "    axs[0, 1].imshow(D1, extent=extent, origin='lower')\n",
    "    axs[1, 0].imshow(confidencescore, extent=extent, origin='lower')\n",
    "    axs[1, 0].contour(X0,X1,confidencescore, colors='white', linestyles='solid')\n",
    "    axs[1, 1].axis('off')\n",
    "\n",
    "    def set_plot_properties(ax, title):\n",
    "        ax.set_title(title)\n",
    "        ax.set_xlabel(r'$x_0$')\n",
    "        ax.set_ylabel(r'$x_1$')\n",
    "        ax.set_xticks(ticks=np.arange(x0[0],x0[-1]))\n",
    "        ax.set_yticks(ticks=np.arange(x1[0],x1[-1]))\n",
    "        ax.grid(visible=True)\n",
    "\n",
    "    set_plot_properties(axs[0,0], r'$d_0(x_1,x_2)$')\n",
    "    set_plot_properties(axs[0,1], r'$d_1(x_1,x_2)$')\n",
    "    set_plot_properties(axs[1,0], 'Log-likelihood ratio')\n",
    "\n"
   ]
  },
  {
   "cell_type": "markdown",
   "metadata": {},
   "source": [
    "## CASE 1: Constrained variances - same across classes"
   ]
  },
  {
   "cell_type": "code",
   "execution_count": null,
   "metadata": {},
   "outputs": [],
   "source": [
    "\n",
    "# State our means and standard deviations\n",
    "mean = [[0,1], # Class 0 means for each feature\n",
    "        [0,-1]] # Class 1 means for each feature\n",
    "std = [[1, 0.5], # Class 0 stds for each feature\n",
    "       [1, 0.5]] # Class 1 stds for each feature\n",
    "\n",
    "# Create matrices to represent the feature space\n",
    "x0 = np.linspace(-4,4,500)\n",
    "x1 = np.linspace(-4,4,500)\n",
    "X0, X1 = np.meshgrid(x0,x1)\n",
    "\n",
    "plot_naive_bayes_example(X0,X1,mean,std)\n",
    "\n"
   ]
  },
  {
   "cell_type": "markdown",
   "metadata": {},
   "source": [
    "## CASE 2: Unconstrained variances - different across classes"
   ]
  },
  {
   "cell_type": "code",
   "execution_count": null,
   "metadata": {},
   "outputs": [],
   "source": [
    "# State our means and standard deviations\n",
    "mean = [[0,1], # Class 0 means for each feature\n",
    "        [0,-1]] # Class 1 means for each feature\n",
    "std = [[1, 0.5], # Class 0 stds for each feature\n",
    "       [0.5, 1]] # Class 1 stds for each feature\n",
    "\n",
    "# Create matrices to represent the feature space\n",
    "x0 = np.linspace(-4,4,500)\n",
    "x1 = np.linspace(-4,4,500)\n",
    "X0, X1 = np.meshgrid(x0,x1)\n",
    "\n",
    "plot_naive_bayes_example(X0,X1,mean,std)"
   ]
  }
 ],
 "metadata": {
  "language_info": {
   "name": "python"
  },
  "orig_nbformat": 4
 },
 "nbformat": 4,
 "nbformat_minor": 2
}
